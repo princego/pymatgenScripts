{
 "cells": [
  {
   "cell_type": "code",
   "execution_count": 3,
   "id": "0ac522ca-2eca-49aa-bcf4-67ba522d0d0c",
   "metadata": {},
   "outputs": [],
   "source": [
    "from pymatgen.core import Structure"
   ]
  },
  {
   "cell_type": "code",
   "execution_count": 6,
   "id": "83295ddf-fc8e-4fab-91e2-892cb8719745",
   "metadata": {},
   "outputs": [],
   "source": [
    "from pymatgen.symmetry.analyzer import SpacegroupAnalyzer"
   ]
  },
  {
   "cell_type": "code",
   "execution_count": 4,
   "id": "56a8cfea-60ae-4577-b6fc-21ad4ec3e1bd",
   "metadata": {},
   "outputs": [],
   "source": [
    "str = Structure.from_file('TiN.vasp')"
   ]
  },
  {
   "cell_type": "code",
   "execution_count": 5,
   "id": "b506199e-4fe0-447b-8110-dbef971cc0f5",
   "metadata": {},
   "outputs": [
    {
     "data": {
      "text/plain": [
       "Structure Summary\n",
       "Lattice\n",
       "    abc : 4.2521510124 4.2521510124 4.2521510124\n",
       " angles : 90.0 90.0 90.0\n",
       " volume : 76.8822419867703\n",
       "      A : 4.2521510124 0.0 0.0\n",
       "      B : 0.0 4.2521510124 0.0\n",
       "      C : 0.0 0.0 4.2521510124\n",
       "PeriodicSite: Ti (0.0000, 0.0000, 2.1261) [0.0000, 0.0000, 0.5000]\n",
       "PeriodicSite: Ti (2.1261, 0.0000, 0.0000) [0.5000, 0.0000, 0.0000]\n",
       "PeriodicSite: Ti (0.0000, 2.1261, 0.0000) [0.0000, 0.5000, 0.0000]\n",
       "PeriodicSite: Ti (2.1261, 2.1261, 2.1261) [0.5000, 0.5000, 0.5000]\n",
       "PeriodicSite: N (0.0000, 0.0000, 0.0000) [0.0000, 0.0000, 0.0000]\n",
       "PeriodicSite: N (0.0000, 2.1261, 2.1261) [0.0000, 0.5000, 0.5000]\n",
       "PeriodicSite: N (2.1261, 0.0000, 2.1261) [0.5000, 0.0000, 0.5000]\n",
       "PeriodicSite: N (2.1261, 2.1261, 0.0000) [0.5000, 0.5000, 0.0000]"
      ]
     },
     "execution_count": 5,
     "metadata": {},
     "output_type": "execute_result"
    }
   ],
   "source": [
    "str"
   ]
  },
  {
   "cell_type": "code",
   "execution_count": 10,
   "id": "03f6b741-9277-4f03-9152-ff71f9812c0b",
   "metadata": {},
   "outputs": [
    {
     "data": {
      "text/plain": [
       "('Fm-3m', 225)"
      ]
     },
     "execution_count": 10,
     "metadata": {},
     "output_type": "execute_result"
    }
   ],
   "source": [
    "str.get_space_group_info()"
   ]
  },
  {
   "cell_type": "code",
   "execution_count": 15,
   "id": "407f44cf-33b9-47c9-a71d-a78e959be283",
   "metadata": {},
   "outputs": [
    {
     "data": {
      "text/plain": [
       "Structure Summary\n",
       "Lattice\n",
       "    abc : 3.006724815497283 3.006724815497283 3.006724815497283\n",
       " angles : 60.00000000000001 60.00000000000001 60.00000000000001\n",
       " volume : 19.220560496692574\n",
       "      A : -2.1260755062 -2.1260755062 0.0\n",
       "      B : -2.1260755062 0.0 -2.1260755062\n",
       "      C : 0.0 -2.1260755062 -2.1260755062\n",
       "PeriodicSite: N (0.0000, 0.0000, 0.0000) [0.0000, 0.0000, 0.0000]\n",
       "PeriodicSite: Ti (-2.1261, -2.1261, -2.1261) [0.5000, 0.5000, 0.5000]"
      ]
     },
     "execution_count": 15,
     "metadata": {},
     "output_type": "execute_result"
    }
   ],
   "source": [
    "strPrim = str.get_primitive_structure()\n",
    "strPrim"
   ]
  },
  {
   "cell_type": "code",
   "execution_count": 16,
   "id": "e5a7e925-c688-43b4-ba53-638384ec884f",
   "metadata": {},
   "outputs": [],
   "source": [
    "strPrim.to(fmt='poscar', filename='TiNprimitive')"
   ]
  }
 ],
 "metadata": {
  "kernelspec": {
   "display_name": "Python 3",
   "language": "python",
   "name": "python3"
  },
  "language_info": {
   "codemirror_mode": {
    "name": "ipython",
    "version": 3
   },
   "file_extension": ".py",
   "mimetype": "text/x-python",
   "name": "python",
   "nbconvert_exporter": "python",
   "pygments_lexer": "ipython3",
   "version": "3.9.7"
  }
 },
 "nbformat": 4,
 "nbformat_minor": 5
}
